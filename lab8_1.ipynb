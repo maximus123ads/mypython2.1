{
 "cells": [
  {
   "cell_type": "code",
   "execution_count": 7,
   "metadata": {},
   "outputs": [
    {
     "name": "stdout",
     "output_type": "stream",
     "text": [
      "hello\n"
     ]
    }
   ],
   "source": [
    "print(\"hello\")"
   ]
  },
  {
   "cell_type": "code",
   "execution_count": 1,
   "metadata": {},
   "outputs": [],
   "source": [
    "def calculate_salary(name, mo_sa, OTh):\n",
    "    # ตรวจสอบว่าชั่วโมงล่วงเวลาเกิน 40 หรือไม่\n",
    "    if overtime_hours > 40:\n",
    "        OTp = 40 * 100 + (OTh - 40) * 100 * 1.5\n",
    "    else:\n",
    "        OTp = OTh * 100\n",
    "    \n",
    "    # คำนวณเงินเดือนทั้งหมด\n",
    "    total_salary = monthly_salary + OTp\n",
    "    \n",
    "    # แสดงผลลัพธ์\n",
    "    print(f\"\\nชื่อพนักงาน: {name}\")\n",
    "    print(f\"เงินเดือนทั้งหมด (รวมค่าล่วงเวลา): {total_salary:.2f} บาท\")\n",
    "\n",
    "# เรียกใช้งานฟังก์ชัน calculate_salary\n",
    "name = input(\"กรุณากรอกชื่อพนักงาน: \")\n",
    "mo_sa = float(input(\"กรุณากรอกเงินเดือนพนักงาน (บาท/เดือน): \"))\n",
    "OTh = float(input(\"กรุณากรอกจำนวนชั่วโมงล่วงเวลาที่ทำ (ชั่วโมง): \"))\n",
    "\n",
    "calculate_salary(name, mo_sa, OTh)"
   ]
  }
 ],
 "metadata": {
  "kernelspec": {
   "display_name": "Python 3",
   "language": "python",
   "name": "python3"
  },
  "language_info": {
   "codemirror_mode": {
    "name": "ipython",
    "version": 3
   },
   "file_extension": ".py",
   "mimetype": "text/x-python",
   "name": "python",
   "nbconvert_exporter": "python",
   "pygments_lexer": "ipython3",
   "version": "3.12.3"
  }
 },
 "nbformat": 4,
 "nbformat_minor": 2
}
